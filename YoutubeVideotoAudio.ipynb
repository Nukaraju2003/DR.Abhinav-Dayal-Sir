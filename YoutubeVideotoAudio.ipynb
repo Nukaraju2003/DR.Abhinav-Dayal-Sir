{
  "cells": [
    {
      "cell_type": "markdown",
      "metadata": {
        "id": "view-in-github",
        "colab_type": "text"
      },
      "source": [
        "<a href=\"https://colab.research.google.com/github/Nukaraju2003/DR.Abhinav-Dayal-Sir/blob/main/YoutubeVideotoAudio.ipynb\" target=\"_parent\"><img src=\"https://colab.research.google.com/assets/colab-badge.svg\" alt=\"Open In Colab\"/></a>"
      ]
    },
    {
      "cell_type": "markdown",
      "source": [
        "# Preparing the audio file"
      ],
      "metadata": {
        "id": "wtljXaTXnowa"
      }
    },
    {
      "cell_type": "markdown",
      "source": [
        " Installing [`yt-dlp`](https://github.com/yt-dlp/yt-dlp). and downloading the [video](https://) from youtube."
      ],
      "metadata": {
        "id": "Ct4adIANpQvX"
      }
    },
    {
      "cell_type": "code",
      "execution_count": null,
      "metadata": {
        "id": "TL7fC4aZdpyH",
        "colab": {
          "base_uri": "https://localhost:8080/"
        },
        "outputId": "09dff314-3c0d-4771-9d48-a9ce085db0b7"
      },
      "outputs": [
        {
          "output_type": "stream",
          "name": "stdout",
          "text": [
            "Looking in indexes: https://pypi.org/simple, https://us-python.pkg.dev/colab-wheels/public/simple/\n",
            "Collecting yt-dlp\n",
            "  Downloading yt_dlp-2022.10.4-py2.py3-none-any.whl (2.7 MB)\n",
            "\u001b[K     |████████████████████████████████| 2.7 MB 4.3 MB/s \n",
            "\u001b[?25hCollecting websockets\n",
            "  Downloading websockets-10.4-cp37-cp37m-manylinux_2_5_x86_64.manylinux1_x86_64.manylinux_2_17_x86_64.manylinux2014_x86_64.whl (106 kB)\n",
            "\u001b[K     |████████████████████████████████| 106 kB 86.8 MB/s \n",
            "\u001b[?25hRequirement already satisfied: certifi in /usr/local/lib/python3.7/dist-packages (from yt-dlp) (2022.9.24)\n",
            "Collecting brotli\n",
            "  Downloading Brotli-1.0.9-cp37-cp37m-manylinux1_x86_64.whl (357 kB)\n",
            "\u001b[K     |████████████████████████████████| 357 kB 79.4 MB/s \n",
            "\u001b[?25hCollecting mutagen\n",
            "  Downloading mutagen-1.46.0-py3-none-any.whl (193 kB)\n",
            "\u001b[K     |████████████████████████████████| 193 kB 82.4 MB/s \n",
            "\u001b[?25hCollecting pycryptodomex\n",
            "  Downloading pycryptodomex-3.15.0-cp35-abi3-manylinux2010_x86_64.whl (2.3 MB)\n",
            "\u001b[K     |████████████████████████████████| 2.3 MB 63.1 MB/s \n",
            "\u001b[?25hInstalling collected packages: websockets, pycryptodomex, mutagen, brotli, yt-dlp\n",
            "Successfully installed brotli-1.0.9 mutagen-1.46.0 pycryptodomex-3.15.0 websockets-10.4 yt-dlp-2022.10.4\n"
          ]
        }
      ],
      "source": [
        "!pip install -U yt-dlp"
      ]
    },
    {
      "cell_type": "markdown",
      "source": [
        "Custom build of `ffmpeg` as [recommended](https://github.com/yt-dlp/yt-dlp#strongly-recommended) by `yt-dlp`."
      ],
      "metadata": {
        "id": "bI5sr2GI4gXb"
      }
    },
    {
      "cell_type": "code",
      "execution_count": null,
      "metadata": {
        "id": "KsedMPN-daEX"
      },
      "outputs": [],
      "source": [
        "!wget -O - -q  https://github.com/yt-dlp/FFmpeg-Builds/releases/download/latest/ffmpeg-master-latest-linux64-gpl.tar.xz | xz -qdc| tar -x"
      ]
    },
    {
      "cell_type": "code",
      "source": [
        "video_id = 'NSp2fEQ6wyA'\n",
        "video_url = 'https://youtu.be/' + video_id"
      ],
      "metadata": {
        "id": "95y2c8fn_ERV"
      },
      "execution_count": null,
      "outputs": []
    },
    {
      "cell_type": "code",
      "source": [
        "from yt_dlp import YoutubeDL\n",
        "\n",
        "with YoutubeDL() as ydl:\n",
        "  info_dict = ydl.extract_info(video_url, download=False)\n",
        "  video_title = info_dict.get('title', None)\n",
        "  print(\"Title: \" + video_title) # <= Here, you got the video title\n"
      ],
      "metadata": {
        "colab": {
          "base_uri": "https://localhost:8080/"
        },
        "id": "DNcD7tx9UmyK",
        "outputId": "917c3af5-f964-4741-f2ec-5bd65aab47f9"
      },
      "execution_count": null,
      "outputs": [
        {
          "output_type": "stream",
          "name": "stdout",
          "text": [
            "[youtube] NSp2fEQ6wyA: Downloading webpage\n",
            "[youtube] NSp2fEQ6wyA: Downloading android player API JSON\n",
            "Title: Freeman Dyson - Pure mathematics at Cambridge: the influence of Besicovitch (23/157)\n"
          ]
        }
      ]
    },
    {
      "cell_type": "markdown",
      "source": [
        "Downloading the audio from YouTube."
      ],
      "metadata": {
        "id": "e_UyK49aPNiD"
      }
    },
    {
      "cell_type": "code",
      "execution_count": null,
      "metadata": {
        "id": "2VHzpv72dkvV",
        "colab": {
          "base_uri": "https://localhost:8080/"
        },
        "outputId": "d68966a2-1c7f-49a0-ce1d-7beb4930ce19"
      },
      "outputs": [
        {
          "output_type": "stream",
          "name": "stdout",
          "text": [
            "[debug] Command-line config: ['-xv', '--ffmpeg-location', 'ffmpeg-master-latest-linux64-gpl/bin', '--audio-format', 'wav', '-o', 'youtube.wav', '--', 'https://youtu.be/NSp2fEQ6wyA']\n",
            "[debug] Encodings: locale UTF-8, fs utf-8, pref UTF-8, out UTF-8, error UTF-8, screen UTF-8\n",
            "[debug] yt-dlp version 2022.10.04 [4e0511f] (pip) API\n",
            "[debug] Python 3.7.15 (CPython 64bit) - Linux-5.10.133+-x86_64-with-Ubuntu-18.04-bionic (glibc 2.26)\n",
            "[debug] Checking exe version: ffmpeg-master-latest-linux64-gpl/bin/ffmpeg -bsfs\n",
            "[debug] Checking exe version: ffmpeg-master-latest-linux64-gpl/bin/ffprobe -bsfs\n",
            "[debug] exe versions: ffmpeg N-109027-g202b7a9ae7-20221107 (setts), ffprobe N-109027-g202b7a9ae7-20221107\n",
            "[debug] Optional libraries: Cryptodome-3.15.0, brotli-1.0.9, certifi-2022.09.24, mutagen-1.46.0, sqlite3-2.6.0, websockets-10.4\n",
            "[debug] Proxy map: {}\n",
            "[debug] Loaded 1690 extractors\n",
            "[debug] [youtube] Extracting URL: https://youtu.be/NSp2fEQ6wyA\n",
            "[youtube] NSp2fEQ6wyA: Downloading webpage\n",
            "[youtube] NSp2fEQ6wyA: Downloading android player API JSON\n",
            "[debug] Sort order given by extractor: quality, res, fps, hdr:12, source, vcodec:vp9.2, channels, acodec, lang, proto\n",
            "[debug] Formats sorted by: hasvid, ie_pref, quality, res, fps, hdr:12(7), source, vcodec:vp9.2(10), channels, acodec, lang, proto, filesize, fs_approx, tbr, vbr, abr, asr, vext, aext, hasaud, id\n",
            "[info] NSp2fEQ6wyA: Downloading 1 format(s): 251\n",
            "[debug] Invoking http downloader on \"https://rr3---sn-un57snee.googlevideo.com/videoplayback?expire=1667934047&ei=_1JqY5u9Kf3i2roPjI-1uAE&ip=35.221.221.31&id=o-AN5zz_3KUa9JdbAJWWtHonHLV-o6M_cyobyHNsJQneWt&itag=251&source=youtube&requiressl=yes&mh=KI&mm=31%2C29&mn=sn-un57snee%2Csn-un57enel&ms=au%2Crdu&mv=u&mvi=3&pl=21&spc=SFxXNnmsYUBOUrqCJ3Oh1XBsXU1Ytzc&vprv=1&svpuc=1&mime=audio%2Fwebm&gir=yes&clen=3153007&dur=256.641&lmt=1475065382561792&mt=1667911361&fvip=4&keepalive=yes&fexp=24001373%2C24007246&c=ANDROID&sparams=expire%2Cei%2Cip%2Cid%2Citag%2Csource%2Crequiressl%2Cspc%2Cvprv%2Csvpuc%2Cmime%2Cgir%2Cclen%2Cdur%2Clmt&sig=AOq0QJ8wRQIhAKLlJ9OO2L_Upquxini8d7pdvWPDb4bZoxML9rsVy6SaAiBUmFsFvsRM9ylL6aIhqp5inYzQI3kqMsGP-LbP_Y6GZg%3D%3D&lsparams=mh%2Cmm%2Cmn%2Cms%2Cmv%2Cmvi%2Cpl&lsig=AG3C_xAwRQIgXlbhNtD8oq_Y8p3sK3MAozgGgHYWKYLFVLTaFqHFxNACIQDmmDf9pQTyNy5OLUcPAqqju7jF20K8qaob2WuPO_JtEQ%3D%3D\"\n",
            "[download] Destination: youtube.webm\n",
            "\u001b[K[download] 100% of    3.01MiB in \u001b[1;37m00:00:00\u001b[0m at \u001b[0;32m10.56MiB/s\u001b[0m\n",
            "[debug] ffmpeg command line: ffmpeg-master-latest-linux64-gpl/bin/ffprobe -show_streams file:youtube.webm\n",
            "[ExtractAudio] Destination: youtube.wav\n",
            "[debug] ffmpeg command line: ffmpeg-master-latest-linux64-gpl/bin/ffmpeg -y -loglevel repeat+info -i file:youtube.webm -vn -movflags +faststart file:youtube.wav\n",
            "Deleting original file youtube.webm (pass -k to keep)\n"
          ]
        }
      ],
      "source": [
        "!yt-dlp -xv --ffmpeg-location ffmpeg-master-latest-linux64-gpl/bin --audio-format wav  -o youtube.wav -- {video_url}"
      ]
    },
    {
      "cell_type": "markdown",
      "source": [
        "`pyannote.audio` seems to miss the first 0.5 seconds of the audio, and, therefore, we prepend a spcacer."
      ],
      "metadata": {
        "id": "q7qMLTISFE6M"
      }
    },
    {
      "cell_type": "code",
      "execution_count": null,
      "metadata": {
        "id": "ZqznOE7Kw725",
        "colab": {
          "base_uri": "https://localhost:8080/"
        },
        "outputId": "2e96a4ab-d218-4f04-bf9b-b180bf348064"
      },
      "outputs": [
        {
          "output_type": "stream",
          "name": "stdout",
          "text": [
            "Looking in indexes: https://pypi.org/simple, https://us-python.pkg.dev/colab-wheels/public/simple/\n",
            "Collecting pydub\n",
            "  Downloading pydub-0.25.1-py2.py3-none-any.whl (32 kB)\n",
            "Installing collected packages: pydub\n",
            "Successfully installed pydub-0.25.1\n"
          ]
        }
      ],
      "source": [
        "!pip install pydub"
      ]
    },
    {
      "cell_type": "code",
      "source": [
        "from pydub import AudioSegment\n",
        "\n",
        "spacermilli = 2000\n",
        "spacer = AudioSegment.silent(duration=spacermilli)\n",
        "\n",
        "\n",
        "audio = AudioSegment.from_wav(\"youtube.wav\") #lecun1.wav\n",
        "\n",
        "audio = spacer.append(audio, crossfade=0)\n",
        "\n",
        "audio.export('audio.wav', format='wav')"
      ],
      "metadata": {
        "colab": {
          "base_uri": "https://localhost:8080/"
        },
        "id": "MaRDsBV1CWi8",
        "outputId": "a204c60b-332e-44b2-9bee-a82aa0845a90"
      },
      "execution_count": null,
      "outputs": [
        {
          "output_type": "execute_result",
          "data": {
            "text/plain": [
              "<_io.BufferedRandom name='audio.wav'>"
            ]
          },
          "metadata": {},
          "execution_count": 7
        }
      ]
    }
  ],
  "metadata": {
    "colab": {
      "provenance": [],
      "machine_shape": "hm",
      "include_colab_link": true
    },
    "kernelspec": {
      "display_name": "Python 3",
      "name": "python3"
    },
    "gpuClass": "standard",
    "accelerator": "GPU"
  },
  "nbformat": 4,
  "nbformat_minor": 0
}