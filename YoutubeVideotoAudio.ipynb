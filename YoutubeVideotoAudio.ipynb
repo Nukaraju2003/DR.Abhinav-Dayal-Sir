{
  "cells": [
    {
      "cell_type": "markdown",
      "metadata": {
        "id": "view-in-github",
        "colab_type": "text"
      },
      "source": [
        "<a href=\"https://colab.research.google.com/github/Nukaraju2003/DR.Abhinav-Dayal-Sir/blob/main/YoutubeVideotoAudio.ipynb\" target=\"_parent\"><img src=\"https://colab.research.google.com/assets/colab-badge.svg\" alt=\"Open In Colab\"/></a>"
      ]
    },
    {
      "cell_type": "markdown",
      "source": [
        "# Preparing the audio file"
      ],
      "metadata": {
        "id": "wtljXaTXnowa"
      }
    },
    {
      "cell_type": "markdown",
      "source": [
        " Installing [`yt-dlp`](https://github.com/yt-dlp/yt-dlp). and downloading the [video](https://) from youtube."
      ],
      "metadata": {
        "id": "Ct4adIANpQvX"
      }
    },
    {
      "cell_type": "code",
      "execution_count": null,
      "metadata": {
        "id": "TL7fC4aZdpyH",
        "colab": {
          "base_uri": "https://localhost:8080/"
        },
        "outputId": "2757fba6-3fdd-4320-c128-3a3f53ea1533"
      },
      "outputs": [
        {
          "output_type": "stream",
          "name": "stdout",
          "text": [
            "Collecting yt-dlp\n",
            "  Downloading yt_dlp-2023.7.6-py2.py3-none-any.whl (3.0 MB)\n",
            "\u001b[2K     \u001b[90m━━━━━━━━━━━━━━━━━━━━━━━━━━━━━━━━━━━━━━━━\u001b[0m \u001b[32m3.0/3.0 MB\u001b[0m \u001b[31m18.1 MB/s\u001b[0m eta \u001b[36m0:00:00\u001b[0m\n",
            "\u001b[?25hCollecting mutagen (from yt-dlp)\n",
            "  Downloading mutagen-1.46.0-py3-none-any.whl (193 kB)\n",
            "\u001b[2K     \u001b[90m━━━━━━━━━━━━━━━━━━━━━━━━━━━━━━━━━━━━━━\u001b[0m \u001b[32m193.6/193.6 kB\u001b[0m \u001b[31m14.8 MB/s\u001b[0m eta \u001b[36m0:00:00\u001b[0m\n",
            "\u001b[?25hCollecting pycryptodomex (from yt-dlp)\n",
            "  Downloading pycryptodomex-3.18.0-cp35-abi3-manylinux_2_17_x86_64.manylinux2014_x86_64.whl (2.1 MB)\n",
            "\u001b[2K     \u001b[90m━━━━━━━━━━━━━━━━━━━━━━━━━━━━━━━━━━━━━━━━\u001b[0m \u001b[32m2.1/2.1 MB\u001b[0m \u001b[31m52.8 MB/s\u001b[0m eta \u001b[36m0:00:00\u001b[0m\n",
            "\u001b[?25hCollecting websockets (from yt-dlp)\n",
            "  Downloading websockets-11.0.3-cp310-cp310-manylinux_2_5_x86_64.manylinux1_x86_64.manylinux_2_17_x86_64.manylinux2014_x86_64.whl (129 kB)\n",
            "\u001b[2K     \u001b[90m━━━━━━━━━━━━━━━━━━━━━━━━━━━━━━━━━━━━━━━\u001b[0m \u001b[32m129.9/129.9 kB\u001b[0m \u001b[31m9.1 MB/s\u001b[0m eta \u001b[36m0:00:00\u001b[0m\n",
            "\u001b[?25hRequirement already satisfied: certifi in /usr/local/lib/python3.10/dist-packages (from yt-dlp) (2023.7.22)\n",
            "Collecting brotli (from yt-dlp)\n",
            "  Downloading Brotli-1.0.9-cp310-cp310-manylinux_2_5_x86_64.manylinux1_x86_64.manylinux_2_12_x86_64.manylinux2010_x86_64.whl (2.7 MB)\n",
            "\u001b[2K     \u001b[90m━━━━━━━━━━━━━━━━━━━━━━━━━━━━━━━━━━━━━━━━\u001b[0m \u001b[32m2.7/2.7 MB\u001b[0m \u001b[31m63.8 MB/s\u001b[0m eta \u001b[36m0:00:00\u001b[0m\n",
            "\u001b[?25hInstalling collected packages: brotli, websockets, pycryptodomex, mutagen, yt-dlp\n",
            "Successfully installed brotli-1.0.9 mutagen-1.46.0 pycryptodomex-3.18.0 websockets-11.0.3 yt-dlp-2023.7.6\n"
          ]
        }
      ],
      "source": [
        "!pip install -U yt-dlp"
      ]
    },
    {
      "cell_type": "markdown",
      "source": [
        "Custom build of `ffmpeg` as [recommended](https://github.com/yt-dlp/yt-dlp#strongly-recommended) by `yt-dlp`."
      ],
      "metadata": {
        "id": "bI5sr2GI4gXb"
      }
    },
    {
      "cell_type": "code",
      "execution_count": null,
      "metadata": {
        "id": "KsedMPN-daEX"
      },
      "outputs": [],
      "source": [
        "!wget -O - -q  https://github.com/yt-dlp/FFmpeg-Builds/releases/download/latest/ffmpeg-master-latest-linux64-gpl.tar.xz | xz -qdc| tar -x"
      ]
    },
    {
      "cell_type": "code",
      "source": [
        "video_id = '8q-gAG6ejrA'\n",
        "video_url = 'https://youtu.be/' + video_id"
      ],
      "metadata": {
        "id": "95y2c8fn_ERV"
      },
      "execution_count": null,
      "outputs": []
    },
    {
      "cell_type": "code",
      "source": [
        "from yt_dlp import YoutubeDL\n",
        "\n",
        "with YoutubeDL() as ydl:\n",
        "  info_dict = ydl.extract_info(video_url, download=False)\n",
        "  video_title = info_dict.get('title', None)\n",
        "  print(\"Title: \" + video_title) # <= Here, you got the video title\n"
      ],
      "metadata": {
        "colab": {
          "base_uri": "https://localhost:8080/"
        },
        "id": "DNcD7tx9UmyK",
        "outputId": "8219e8b7-f739-4d9c-b00f-dd07f367d20a"
      },
      "execution_count": null,
      "outputs": [
        {
          "output_type": "stream",
          "name": "stdout",
          "text": [
            "[youtube] Extracting URL: https://youtu.be/8q-gAG6ejrA\n",
            "[youtube] 8q-gAG6ejrA: Downloading webpage\n",
            "[youtube] 8q-gAG6ejrA: Downloading ios player API JSON\n",
            "[youtube] 8q-gAG6ejrA: Downloading android player API JSON\n",
            "[youtube] 8q-gAG6ejrA: Downloading m3u8 information\n",
            "Title: English Conversation between two students | Conversation about Assignments | Easy English Everyday\n"
          ]
        }
      ]
    },
    {
      "cell_type": "markdown",
      "source": [
        "Downloading the audio from YouTube."
      ],
      "metadata": {
        "id": "e_UyK49aPNiD"
      }
    },
    {
      "cell_type": "code",
      "execution_count": null,
      "metadata": {
        "id": "2VHzpv72dkvV",
        "colab": {
          "base_uri": "https://localhost:8080/"
        },
        "outputId": "50671567-148d-4425-c433-8d11ddff4043"
      },
      "outputs": [
        {
          "output_type": "stream",
          "name": "stdout",
          "text": [
            "[debug] Command-line config: ['-xv', '--ffmpeg-location', 'ffmpeg-master-latest-linux64-gpl/bin', '--audio-format', 'wav', '-o', 'youtube.wav', '--', 'https://youtu.be/8q-gAG6ejrA']\n",
            "[debug] Encodings: locale UTF-8, fs utf-8, pref UTF-8, out utf-8, error utf-8, screen utf-8\n",
            "[debug] yt-dlp version stable@2023.07.06 [b532a3481] (pip)\n",
            "[debug] Python 3.10.12 (CPython x86_64 64bit) - Linux-5.15.109+-x86_64-with-glibc2.35 (OpenSSL 3.0.2 15 Mar 2022, glibc 2.35)\n",
            "[debug] exe versions: ffmpeg N-111662-g0e9956a06e-20230802 (setts), ffprobe N-111662-g0e9956a06e-20230802\n",
            "[debug] Optional libraries: Cryptodome-3.18.0, brotli-1.0.9, certifi-2023.07.22, mutagen-1.46.0, secretstorage-3.3.1, sqlite3-2.6.0, websockets-11.0.3\n",
            "[debug] Proxy map: {'colab_language_server': '/usr/colab/bin/language_service'}\n",
            "[debug] Loaded 1855 extractors\n",
            "[youtube] Extracting URL: https://youtu.be/8q-gAG6ejrA\n",
            "[youtube] 8q-gAG6ejrA: Downloading webpage\n",
            "[youtube] 8q-gAG6ejrA: Downloading ios player API JSON\n",
            "[youtube] 8q-gAG6ejrA: Downloading android player API JSON\n",
            "[youtube] 8q-gAG6ejrA: Downloading m3u8 information\n",
            "[debug] Sort order given by extractor: quality, res, fps, hdr:12, source, vcodec:vp9.2, channels, acodec, lang, proto\n",
            "[debug] Formats sorted by: hasvid, ie_pref, quality, res, fps, hdr:12(7), source, vcodec:vp9.2(10), channels, acodec, lang, proto, size, br, asr, vext, aext, hasaud, id\n",
            "[info] 8q-gAG6ejrA: Downloading 1 format(s): 251\n",
            "[debug] Invoking http downloader on \"https://rr2---sn-npoeenl7.googlevideo.com/videoplayback?expire=1691096397&ei=7cDLZMMivPnj4Q_huY6wBw&ip=35.240.205.198&id=o-ABH3_Edu0cVB4lGGP4QfdtEBSX0FuTbt6rRdVYqpUI6Z&itag=251&source=youtube&requiressl=yes&mh=8R&mm=31%2C26&mn=sn-npoeenl7%2Csn-5go7ynlk&ms=au%2Conr&mv=u&mvi=2&pl=26&spc=UWF9f0zIoV4k4RZKvtIjMlmFIXcwSZ4&vprv=1&svpuc=1&mime=audio%2Fwebm&gir=yes&clen=982793&dur=62.321&lmt=1677055101653187&mt=1691073806&fvip=4&keepalive=yes&fexp=24007246%2C51000024&beids=24350018&c=ANDROID&txp=5311224&sparams=expire%2Cei%2Cip%2Cid%2Citag%2Csource%2Crequiressl%2Cspc%2Cvprv%2Csvpuc%2Cmime%2Cgir%2Cclen%2Cdur%2Clmt&sig=AOq0QJ8wRgIhAJye0wU0K7KsWhyN3O_27tEW1vd3cjeRePdXrFKUef7yAiEAqIY5-ySogM9mYqoNgC9m_JY6N5UpjNFFcThhLvVDx9E%3D&lsparams=mh%2Cmm%2Cmn%2Cms%2Cmv%2Cmvi%2Cpl&lsig=AG3C_xAwRQIhAMsivrTR5dLG_qFAmx1Jy72QzZ_2Qc9hhfyeRSNIG1flAiBsIfrQYz-hP_QDcMzR6tGmp7F6XcvUc51b49WZj-ebJw%3D%3D\"\n",
            "[download] Destination: youtube.webm\n",
            "\u001b[K[download] 100% of  959.76KiB in \u001b[1;37m00:00:00\u001b[0m at \u001b[0;32m17.63MiB/s\u001b[0m\n",
            "[debug] ffmpeg command line: ffmpeg-master-latest-linux64-gpl/bin/ffprobe -show_streams file:youtube.webm\n",
            "[ExtractAudio] Destination: youtube.wav\n",
            "[debug] ffmpeg command line: ffmpeg-master-latest-linux64-gpl/bin/ffmpeg -y -loglevel repeat+info -i file:youtube.webm -vn -movflags +faststart file:youtube.wav\n",
            "Deleting original file youtube.webm (pass -k to keep)\n"
          ]
        }
      ],
      "source": [
        "!yt-dlp -xv --ffmpeg-location ffmpeg-master-latest-linux64-gpl/bin --audio-format wav  -o youtube.wav -- {video_url}"
      ]
    },
    {
      "cell_type": "markdown",
      "source": [
        "`pyannote.audio` seems to miss the first 0.5 seconds of the audio, and, therefore, we prepend a spcacer."
      ],
      "metadata": {
        "id": "q7qMLTISFE6M"
      }
    },
    {
      "cell_type": "code",
      "execution_count": null,
      "metadata": {
        "id": "ZqznOE7Kw725",
        "colab": {
          "base_uri": "https://localhost:8080/"
        },
        "outputId": "dec37da9-5872-45bb-8569-c4e9877d0cf1"
      },
      "outputs": [
        {
          "output_type": "stream",
          "name": "stdout",
          "text": [
            "Collecting pydub\n",
            "  Downloading pydub-0.25.1-py2.py3-none-any.whl (32 kB)\n",
            "Installing collected packages: pydub\n",
            "Successfully installed pydub-0.25.1\n"
          ]
        }
      ],
      "source": [
        "!pip install pydub"
      ]
    },
    {
      "cell_type": "code",
      "source": [
        "from pydub import AudioSegment\n",
        "\n",
        "spacermilli = 2000\n",
        "spacer = AudioSegment.silent(duration=spacermilli)\n",
        "\n",
        "\n",
        "audio = AudioSegment.from_wav(\"youtube.wav\") #lecun1.wav\n",
        "\n",
        "audio = spacer.append(audio, crossfade=0)\n",
        "\n",
        "audio.export('audio.wav', format='wav')"
      ],
      "metadata": {
        "colab": {
          "base_uri": "https://localhost:8080/"
        },
        "id": "MaRDsBV1CWi8",
        "outputId": "d52b1ba8-68bf-4ed5-c832-8b5170c12b87"
      },
      "execution_count": null,
      "outputs": [
        {
          "output_type": "execute_result",
          "data": {
            "text/plain": [
              "<_io.BufferedRandom name='audio.wav'>"
            ]
          },
          "metadata": {},
          "execution_count": 7
        }
      ]
    }
  ],
  "metadata": {
    "colab": {
      "provenance": [],
      "machine_shape": "hm",
      "include_colab_link": true
    },
    "kernelspec": {
      "display_name": "Python 3",
      "name": "python3"
    },
    "gpuClass": "standard",
    "accelerator": "GPU"
  },
  "nbformat": 4,
  "nbformat_minor": 0
}